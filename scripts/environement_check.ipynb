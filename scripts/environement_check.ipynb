{
 "cells": [
  {
   "cell_type": "code",
   "execution_count": 1,
   "metadata": {},
   "outputs": [
    {
     "name": "stdout",
     "output_type": "stream",
     "text": [
      "Jupyter environment detected. Enabling Open3D WebVisualizer.\n",
      "[Open3D INFO] WebRTC GUI backend enabled.\n",
      "[Open3D INFO] WebRTCWindowSystem: HTTP handshake server disabled.\n"
     ]
    },
    {
     "name": "stderr",
     "output_type": "stream",
     "text": [
      "2024-12-23 15:18:56.979302: I tensorflow/core/util/port.cc:110] oneDNN custom operations are on. You may see slightly different numerical results due to floating-point round-off errors from different computation orders. To turn them off, set the environment variable `TF_ENABLE_ONEDNN_OPTS=0`.\n",
      "2024-12-23 15:18:56.980527: I tensorflow/tsl/cuda/cudart_stub.cc:28] Could not find cuda drivers on your machine, GPU will not be used.\n",
      "2024-12-23 15:18:57.004236: I tensorflow/core/platform/cpu_feature_guard.cc:182] This TensorFlow binary is optimized to use available CPU instructions in performance-critical operations.\n",
      "To enable the following instructions: AVX2 AVX512F AVX512_VNNI AVX512_BF16 FMA, in other operations, rebuild TensorFlow with the appropriate compiler flags.\n",
      "2024-12-23 15:18:57.528809: W tensorflow/compiler/tf2tensorrt/utils/py_utils.cc:38] TF-TRT Warning: Could not find TensorRT\n"
     ]
    }
   ],
   "source": [
    "import gymnasium as gym\n",
    "import numpy as np\n",
    "import torch\n",
    "import open3d as o3d\n",
    "from gymnasium import spaces\n",
    "import copy\n",
    "from stable_baselines3 import PPO\n",
    "from stable_baselines3.common.vec_env import SubprocVecEnv\n",
    "from stable_baselines3.common.vec_env import DummyVecEnv\n",
    "from stable_baselines3.common.env_util import make_vec_env\n",
    "from stable_baselines3.common.utils import set_random_seed\n",
    "from stable_baselines3.common.callbacks import CheckpointCallback\n",
    "from stable_baselines3.common.callbacks import BaseCallback\n",
    "from gymnasium.envs.registration import register\n",
    "import torch.nn as nn\n",
    "import matplotlib.pyplot as plt\n",
    "import copy\n",
    "import sys\n",
    "import os\n",
    "import cv2\n",
    "from datetime import datetime\n",
    "sys.path.append(\"/home/dir/RL_CoveragePlanning/viewpointPlaygroundEnv/viewpoint_env\")\n",
    "from viewpointWorld import CoverageEnv"
   ]
  },
  {
   "cell_type": "code",
   "execution_count": 2,
   "metadata": {},
   "outputs": [],
   "source": [
    "register(\n",
    "    id=\"CoverageEnv-v0\",\n",
    "    entry_point=\"viewpoint_env.viewpointWorld:CoverageEnv\",\n",
    ")"
   ]
  },
  {
   "cell_type": "code",
   "execution_count": 3,
   "metadata": {},
   "outputs": [
    {
     "name": "stdout",
     "output_type": "stream",
     "text": [
      "Using test_1.obj\n"
     ]
    }
   ],
   "source": [
    "env = CoverageEnv(radius=20.0, coverage_threshold=0.98, max_steps=100, action_history_length=5)"
   ]
  },
  {
   "cell_type": "code",
   "execution_count": 14,
   "metadata": {},
   "outputs": [],
   "source": [
    "def visualize_viewpoint(mesh, observation):\n",
    "    # Convert legacy TriangleMesh to tensor-based TriangleMesh\n",
    "    t_mesh = o3d.t.geometry.TriangleMesh.from_legacy(mesh)\n",
    "    \n",
    "    # Create a color array\n",
    "    colors = np.full((len(t_mesh.triangles.indices), 3), [1, 1, 0])  # Yellow for unseen faces\n",
    "    colors[observation == 1] = [1, 0, 0]  # Red for seen faces\n",
    "    \n",
    "    # Assign colors to the mesh\n",
    "    t_mesh.triangle.colors = o3d.core.Tensor(colors)\n",
    "    \n",
    "    # Create a visualizer\n",
    "    render = o3d.visualization.rendering.OffscreenRenderer(640, 480)\n",
    "    render.scene.add_geometry(\"mesh\", t_mesh)\n",
    "    \n",
    "    # Set up the camera view\n",
    "    camera = o3d.camera.PinholeCameraParameters()\n",
    "    camera.extrinsic = np.array([\n",
    "        [1, 0, 0, 0],\n",
    "        [0, 1, 0, 0],\n",
    "        [0, 0, 1, -5],  # Move the camera back by 5 units\n",
    "        [0, 0, 0, 1]\n",
    "    ])\n",
    "    camera.intrinsic.set_intrinsics(640, 480, 500, 500, 320, 240)\n",
    "    render.setup_camera(camera.intrinsic, camera.extrinsic)\n",
    "    \n",
    "    # Render the scene\n",
    "    img = render.render_to_image()\n",
    "    \n",
    "    # Display the image using matplotlib\n",
    "    plt.figure(figsize=(10, 8))\n",
    "    plt.imshow(np.asarray(img))\n",
    "    plt.title(\"Viewpoint Visualization\")\n",
    "    plt.axis('off')\n",
    "    plt.show()\n"
   ]
  },
  {
   "cell_type": "code",
   "execution_count": 15,
   "metadata": {},
   "outputs": [
    {
     "ename": "AttributeError",
     "evalue": "'open3d.cuda.pybind.geometry.TriangleMesh' object has no attribute 'triangle_colors'",
     "output_type": "error",
     "traceback": [
      "\u001b[0;31m---------------------------------------------------------------------------\u001b[0m",
      "\u001b[0;31mAttributeError\u001b[0m                            Traceback (most recent call last)",
      "Cell \u001b[0;32mIn[15], line 16\u001b[0m\n\u001b[1;32m     13\u001b[0m \u001b[38;5;66;03m# Accumulate total reward\u001b[39;00m\n\u001b[1;32m     14\u001b[0m total_reward \u001b[38;5;241m+\u001b[39m\u001b[38;5;241m=\u001b[39m reward\n\u001b[0;32m---> 16\u001b[0m \u001b[43mvisualize_viewpoint\u001b[49m\u001b[43m(\u001b[49m\u001b[43mmesh\u001b[49m\u001b[43m,\u001b[49m\u001b[43m \u001b[49m\u001b[43mobs\u001b[49m\u001b[43m)\u001b[49m\n\u001b[1;32m     17\u001b[0m \u001b[38;5;28mprint\u001b[39m(\u001b[38;5;124mf\u001b[39m\u001b[38;5;124m\"\u001b[39m\u001b[38;5;124mIteration: \u001b[39m\u001b[38;5;132;01m{\u001b[39;00mi\u001b[38;5;132;01m:\u001b[39;00m\u001b[38;5;124m3\u001b[39m\u001b[38;5;132;01m}\u001b[39;00m\u001b[38;5;124m | Reward; \u001b[39m\u001b[38;5;132;01m{\u001b[39;00mreward\u001b[38;5;132;01m:\u001b[39;00m\u001b[38;5;124m10.2f\u001b[39m\u001b[38;5;132;01m}\u001b[39;00m\u001b[38;5;124m | Total Reward: \u001b[39m\u001b[38;5;132;01m{\u001b[39;00mtotal_reward\u001b[38;5;132;01m:\u001b[39;00m\u001b[38;5;124m10.2f\u001b[39m\u001b[38;5;132;01m}\u001b[39;00m\u001b[38;5;124m\"\u001b[39m)\n\u001b[1;32m     18\u001b[0m i \u001b[38;5;241m=\u001b[39m i \u001b[38;5;241m+\u001b[39m \u001b[38;5;241m1\u001b[39m\n",
      "Cell \u001b[0;32mIn[14], line 10\u001b[0m, in \u001b[0;36mvisualize_viewpoint\u001b[0;34m(mesh, observation)\u001b[0m\n\u001b[1;32m      7\u001b[0m colors[observation \u001b[38;5;241m==\u001b[39m \u001b[38;5;241m1\u001b[39m] \u001b[38;5;241m=\u001b[39m [\u001b[38;5;241m1\u001b[39m, \u001b[38;5;241m0\u001b[39m, \u001b[38;5;241m0\u001b[39m]  \u001b[38;5;66;03m# Red for seen faces\u001b[39;00m\n\u001b[1;32m      9\u001b[0m \u001b[38;5;66;03m# Assign colors to the mesh\u001b[39;00m\n\u001b[0;32m---> 10\u001b[0m \u001b[43mvis_mesh\u001b[49m\u001b[38;5;241;43m.\u001b[39;49m\u001b[43mtriangle_colors\u001b[49m \u001b[38;5;241m=\u001b[39m o3d\u001b[38;5;241m.\u001b[39mutility\u001b[38;5;241m.\u001b[39mVector3dVector(colors)\n\u001b[1;32m     12\u001b[0m \u001b[38;5;66;03m# Create a visualizer\u001b[39;00m\n\u001b[1;32m     13\u001b[0m vis \u001b[38;5;241m=\u001b[39m o3d\u001b[38;5;241m.\u001b[39mvisualization\u001b[38;5;241m.\u001b[39mVisualizer()\n",
      "\u001b[0;31mAttributeError\u001b[0m: 'open3d.cuda.pybind.geometry.TriangleMesh' object has no attribute 'triangle_colors'"
     ]
    }
   ],
   "source": [
    "obs, _ = env.reset()  # Reset the environment\n",
    "done = False\n",
    "total_reward = 0\n",
    "mesh = env.mesh\n",
    "i = 0\n",
    "while not done:\n",
    "    # Select a random action\n",
    "    action = env.action_space.sample()\n",
    "    \n",
    "    # Step the environment with the selected action\n",
    "    obs, reward, done, _, _ = env.step(action)\n",
    "    \n",
    "    # Accumulate total reward\n",
    "    total_reward += reward\n",
    "    \n",
    "    visualize_viewpoint(mesh, obs)\n",
    "    print(f\"Iteration: {i:3} | Reward; {reward:10.2f} | Total Reward: {total_reward:10.2f}\")\n",
    "    i = i + 1\n",
    "    # Render the environment\n",
    "    # env.render()\n",
    "\n",
    "# Close the environment after testing\n",
    "env.close()\n"
   ]
  },
  {
   "cell_type": "code",
   "execution_count": null,
   "metadata": {},
   "outputs": [],
   "source": []
  },
  {
   "cell_type": "code",
   "execution_count": null,
   "metadata": {},
   "outputs": [],
   "source": []
  }
 ],
 "metadata": {
  "kernelspec": {
   "display_name": "Python 3",
   "language": "python",
   "name": "python3"
  },
  "language_info": {
   "codemirror_mode": {
    "name": "ipython",
    "version": 3
   },
   "file_extension": ".py",
   "mimetype": "text/x-python",
   "name": "python",
   "nbconvert_exporter": "python",
   "pygments_lexer": "ipython3",
   "version": "3.8.10"
  }
 },
 "nbformat": 4,
 "nbformat_minor": 2
}
